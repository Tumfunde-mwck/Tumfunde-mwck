{
 "cells": [
  {
   "cell_type": "code",
   "execution_count": 4,
   "metadata": {},
   "outputs": [
    {
     "name": "stdout",
     "output_type": "stream",
     "text": [
      "TensorFlow version: 2.16.2\n"
     ]
    }
   ],
   "source": [
    "import tensorflow as tf\n",
    "\n",
    "# Task 1: Print the version of TensorFlow\n",
    "print(\"TensorFlow version:\", tf.__version__)\n",
    "\n"
   ]
  },
  {
   "cell_type": "markdown",
   "metadata": {},
   "source": [
    "test_datagen = ImageDataGenerator(rescale=1./255)\n",
    "test_data_directory = 'path/to/test/data'\n",
    "\n",
    "test_generator = test_datagen.flow_from_directory(\n",
    "    test_data_directory,\n",
    "    target_size=(image_height, image_width),\n",
    "    batch_size=batch_size,\n",
    "    class_mode='categorical',\n",
    "    shuffle=False\n",
    ")\n"
   ]
  },
  {
   "cell_type": "markdown",
   "metadata": {},
   "source": [
    "# Task 3: Print the length of the `train_generator`\n",
    "num_samples = train_generator.n\n",
    "print(\"Total number of samples in train_generator:\", num_samples)\n",
    "print(\"Number of batches in train_generator:\", num_samples // batch_size + (num_samples % batch_size > 0))"
   ]
  },
  {
   "cell_type": "markdown",
   "metadata": {},
   "source": [
    "# Task 4: Print the summary of the model \n",
    "base_model = VGG16(weights='imagenet', include_top=False, input_shape=(image_height, image_width, 3))\n",
    "for layer in base_model.layers:\n",
    "    layer.trainable = False\n",
    "\n",
    "model = Sequential()\n",
    "model.add(base_model)\n",
    "model.add(Flatten())\n",
    "model.add(Dense(256, activation='relu'))\n",
    "model.add(Dense(num_classes, activation='softmax'))\n",
    "\n",
    "# Print the model summary\n",
    "model.summary()"
   ]
  },
  {
   "cell_type": "markdown",
   "metadata": {},
   "source": [
    "# Task 5: Compile the model \n",
    "model.compile(optimizer='adam', loss='categorical_crossentropy', metrics=['accuracy'])"
   ]
  },
  {
   "cell_type": "markdown",
   "metadata": {},
   "source": [
    "# Task 6: Plot accuracy curves for training and validation sets (extract_feat_model)\n",
    "history = model.fit(train_generator, validation_data=test_generator, epochs=10)\n",
    "\n",
    "# Plot accuracy\n",
    "plt.figure(figsize=(12, 4))\n",
    "plt.plot(history.history['accuracy'], label='Training Accuracy')\n",
    "plt.plot(history.history['val_accuracy'], label='Validation Accuracy')\n",
    "plt.title('Accuracy Curves')\n",
    "plt.xlabel('Epochs')\n",
    "plt.ylabel('Accuracy')\n",
    "plt.legend()\n",
    "plt.show()"
   ]
  },
  {
   "cell_type": "markdown",
   "metadata": {},
   "source": [
    "# Task 7: Plot loss curves for training and validation sets (fine tune model)\n",
    "plt.figure(figsize=(12, 4))\n",
    "plt.plot(history.history['loss'], label='Training Loss')\n",
    "plt.plot(history.history['val_loss'], label='Validation Loss')\n",
    "plt.title('Loss Curves')\n",
    "plt.xlabel('Epochs')\n",
    "plt.ylabel('Loss')\n",
    "plt.legend()\n",
    "plt.show()"
   ]
  },
  {
   "cell_type": "markdown",
   "metadata": {},
   "source": [
    "# Task 8: Plot accuracy curves for training and validation sets (fine tune model)\n",
    "plt.figure(figsize=(12, 4))\n",
    "plt.plot(fine_tune_history.history['accuracy'], label='Fine-Tuned Training Accuracy')\n",
    "plt.plot(fine_tune_history.history['val_accuracy'], label='Fine-Tuned Validation Accuracy')\n",
    "plt.title('Fine-Tuned Accuracy Curves')\n",
    "plt.xlabel('Epochs')\n",
    "plt.ylabel('Accuracy')\n",
    "plt.legend()\n",
    "plt.show()"
   ]
  },
  {
   "cell_type": "markdown",
   "metadata": {},
   "source": [
    "# Task 9: Plot a test image using Extract Features Model (index_to_plot = 1)\n",
    "index_to_plot = 1\n",
    "test_images, test_labels = next(test_generator)  # Get a batch of test images\n",
    "plt.imshow(test_images[index_to_plot])\n",
    "plt.title(f'Test Image - Class: {np.argmax(test_labels[index_to_plot])}')\n",
    "plt.axis('off')\n",
    "plt.show()"
   ]
  },
  {
   "cell_type": "markdown",
   "metadata": {},
   "source": [
    "# Task 10: Plot a test image using Fine-Tuned Model (index_to_plot = 1)\n",
    "plt.imshow(test_images[index_to_plot])\n",
    "plt.title(f'Test Image - Class: {np.argmax(test_labels[index_to_plot])}')\n",
    "plt.axis('off')\n",
    "plt.show()"
   ]
  }
 ],
 "metadata": {
  "kernelspec": {
   "display_name": "Python 3",
   "language": "python",
   "name": "python3"
  },
  "language_info": {
   "codemirror_mode": {
    "name": "ipython",
    "version": 3
   },
   "file_extension": ".py",
   "mimetype": "text/x-python",
   "name": "python",
   "nbconvert_exporter": "python",
   "pygments_lexer": "ipython3",
   "version": "3.11.8"
  }
 },
 "nbformat": 4,
 "nbformat_minor": 2
}
